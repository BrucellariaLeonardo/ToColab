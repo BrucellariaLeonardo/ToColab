{
 "cells": [
  {
   "cell_type": "code",
   "execution_count": 17,
   "metadata": {},
   "outputs": [],
   "source": [
    "#imports\n",
    "\n",
    "import torch as torch\n",
    "import torch.nn as nn\n",
    "import torchvision.datasets as datasets\n",
    "import torchvision.transforms as transforms\n",
    "from torch.utils.data import DataLoader \n",
    "import torch.nn.functional as F\n",
    "import matplotlib.pyplot as plt"
   ]
  },
  {
   "cell_type": "code",
   "execution_count": 19,
   "metadata": {},
   "outputs": [],
   "source": [
    "#hiper params\n",
    "batchSize = 64\n",
    "lr = 0.01\n",
    "epochs = 2\n",
    "divice = torch.device(\"cuda:0\" if torch.cuda.is_available() else \"cpu\") "
   ]
  },
  {
   "cell_type": "code",
   "execution_count": 18,
   "metadata": {},
   "outputs": [],
   "source": [
    "#descargando dataset\n",
    "\n",
    "trainSet = datasets.FashionMNIST(root='./', train=True, transform=transforms.ToTensor(), download=True)\n",
    "testSet = datasets.FashionMNIST(root='./', train=False, transform=transforms.ToTensor(), download=True)\n",
    "# data loader\n",
    "trainLoader = DataLoader(trainSet, batch_size=batchSize, shuffle=True,)\n",
    "testLoader = DataLoader(testSet, batch_size=batchSize, shuffle=True)"
   ]
  },
  {
   "cell_type": "code",
   "execution_count": 39,
   "metadata": {},
   "outputs": [],
   "source": [
    "# arquitectura \n",
    "\n",
    "class NN(nn.Module):\n",
    "    def __init__(self):\n",
    "        super(NN,self).__init__()\n",
    "        self.cnn1 = nn.Conv2d(in_channels=1, out_channels= 12, kernel_size= 3,stride=1, padding=1) # 1 input channel, 3 output channels, 1x1 kernel size img out 28*28\n",
    "        self.bn1 = nn.BatchNorm2d(12)       # img out 28*28\n",
    "        self.cnn2 = nn.Conv2d(12,24,3,2,1)   # img out 14*14\n",
    "        self.bn2 = nn.BatchNorm2d(24)       # img out 14*14\n",
    "        self.cnn3 = nn.Conv2d(24,48,3,2,1)   # img out 7*7\n",
    "        self.bn3 = nn.BatchNorm2d(48)       # img out 7*7\n",
    "        self.flat = nn.Flatten()           # img out 7*7\n",
    "        self.fc1 = nn.Linear(48*7*7,10)     # img out 7*7\n",
    "    def forward(self,x):\n",
    "        # Definicion de la forma en la que se ejecuta la arquitectura de la red\n",
    "        #print(x.shape)\n",
    "        x = F.relu(self.bn1(self.cnn1(x)))\n",
    "        #print(f\"k= 1 s= 1, shape ={x.shape}\")\n",
    "        x = F.relu(self.bn2(self.cnn2(x)))\n",
    "        #print(f\"k= 2 s= 2, shape ={x.shape}\")\n",
    "        x = F.relu(self.bn3(self.cnn3(x)))\n",
    "        #print(f\"k= 2 s= 2, shape ={x.shape}\")\n",
    "        x = self.flat(x)\n",
    "        #print(f\"k= 2 s= 2, shape ={x.shape}\")\n",
    "        x = self.fc1(x)\n",
    "        #print(f\"k= 2 s= 2, shape ={x.shape}\")\n",
    "        return x\n",
    "    def trainer(self, model, data, lossFunction,optimizer, epochs = 2):\n",
    "        # Funcion que controla el ciclo de ejecucion durante el entrenamiento de la red\n",
    "        model.train()\n",
    "        for epoch in range(epochs):\n",
    "            print(epoch)\n",
    "            for (x,y) in data:\n",
    "                # llamdos al forward\n",
    "                pred = model(x)\n",
    "                loss= lossFunction(pred,y)\n",
    "                #calgulo de los gradientes mediante backpropagation\n",
    "                optimizer.zero_grad()\n",
    "                loss.backward()\n",
    "                #actualizar parametros\n",
    "                optimizer.step()\n",
    "        return\n",
    "    def check_acuracy(self,model,dataLoader):\n",
    "        # Funcion que calcula la performance de la red\n",
    "        model.eval() #ponemos el modelo en modo evaluacion, de modo que no altera los parametros\n",
    "        corrects = 0\n",
    "        samples = 0\n",
    "\n",
    "        with torch.no_grad(): #desactivamos los gradientes\n",
    "            for x,y in dataLoader:\n",
    "                pred = model(x)\n",
    "                pred = pred.argmax(dim=1)\n",
    "                corrects += (pred == y).sum()\n",
    "                samples += x.shape[0]\n",
    "        print('Accuracy: %.2f' % (corrects/samples))\n",
    "        model.train() #reactivamos el entrenamiento\n",
    "        return corrects/samples\n"
   ]
  },
  {
   "cell_type": "code",
   "execution_count": 40,
   "metadata": {},
   "outputs": [
    {
     "data": {
      "text/plain": [
       "tensor([[ 0.1753, -0.3921,  0.3442,  0.5994,  0.0499, -0.2464, -0.2992,  0.2590,\n",
       "          0.3350,  0.5482]], grad_fn=<AddmmBackward0>)"
      ]
     },
     "execution_count": 40,
     "metadata": {},
     "output_type": "execute_result"
    }
   ],
   "source": [
    "#Ejemplo para probar que la arquitecutra funciona\n",
    "example = torch.randn(1,1,28,28)\n",
    "\n",
    "exampleModel = NN()\n",
    "exampleModel(example)"
   ]
  },
  {
   "cell_type": "code",
   "execution_count": 41,
   "metadata": {},
   "outputs": [],
   "source": [
    "# creando modelo\n",
    "\n",
    "model = NN()\n"
   ]
  },
  {
   "cell_type": "code",
   "execution_count": 43,
   "metadata": {},
   "outputs": [
    {
     "name": "stdout",
     "output_type": "stream",
     "text": [
      "0\n",
      "1\n",
      "Accuracy: 0.92\n"
     ]
    },
    {
     "data": {
      "text/plain": [
       "tensor(0.9228)"
      ]
     },
     "execution_count": 43,
     "metadata": {},
     "output_type": "execute_result"
    }
   ],
   "source": [
    "#Testeo para buscar lr \n",
    "loss = nn.CrossEntropyLoss()\n",
    "optimizer = torch.optim.Adam(model.parameters(), lr= lr)\n",
    "model.trainer(model, trainLoader, loss, optimizer)\n",
    "model.check_acuracy(model,trainLoader)"
   ]
  },
  {
   "cell_type": "markdown",
   "metadata": {},
   "source": [
    "## lr  acuracy\n",
    "\n",
    "0.01    0.92\n",
    "\n",
    "0.005   0.92\n",
    "\n",
    "0.001   0.94\n",
    "\n",
    "0.0005  0.92\n",
    "\n",
    "0.0001  0.89"
   ]
  },
  {
   "cell_type": "code",
   "execution_count": 9,
   "metadata": {},
   "outputs": [
    {
     "name": "stdout",
     "output_type": "stream",
     "text": [
      "0\n",
      "1\n",
      "0\n",
      "1\n",
      "2\n",
      "3\n",
      "4\n",
      "0\n",
      "1\n",
      "Accuracy: 0.96\n"
     ]
    }
   ],
   "source": [
    "# Entrenando modelo\n",
    "model = NN()\n",
    "loss = nn.CrossEntropyLoss()\n",
    "for lr,epochs in [(0.01,2),(0.001,5),(0.0001,2)]:\n",
    "    optimizer = torch.optim.Adam(model.parameters(), lr)\n",
    "    model.trainer(model, trainLoader, loss, optimizer, epochs)\n",
    "model.check_acuracy(model, trainLoader)"
   ]
  },
  {
   "cell_type": "code",
   "execution_count": 12,
   "metadata": {},
   "outputs": [],
   "source": [
    "#guardar modelo\n",
    "torch.save(model.state_dict(), 'model_CNN_0.0.2.5.2_0.pt')"
   ]
  },
  {
   "cell_type": "code",
   "execution_count": 15,
   "metadata": {},
   "outputs": [
    {
     "name": "stdout",
     "output_type": "stream",
     "text": [
      "T-shirt/top\n",
      "T-shirt/top\n"
     ]
    },
    {
     "data": {
      "text/plain": [
       "<matplotlib.image.AxesImage at 0x1c35968eaa0>"
      ]
     },
     "execution_count": 15,
     "metadata": {},
     "output_type": "execute_result"
    },
    {
     "data": {
      "image/png": "[encoded data removed]",
      "text/plain": [
       "<Figure size 432x288 with 1 Axes>"
      ]
     },
     "metadata": {
      "needs_background": "light"
     },
     "output_type": "display_data"
    }
   ],
   "source": [
    "# Usando el modelo\n",
    "img = 85\n",
    "print(trainSet.classes[model(testSet[img][0].unsqueeze(0)).argmax()] )\n",
    "print(trainSet.classes[testSet[img][1]])\n",
    "plt.imshow(testSet[img][0].reshape(28,28))\n"
   ]
  },
  {
   "cell_type": "markdown",
   "metadata": {},
   "source": []
  },
  {
   "cell_type": "code",
   "execution_count": 14,
   "metadata": {},
   "outputs": [
    {
     "name": "stdout",
     "output_type": "stream",
     "text": [
      "Accuracy: 0.91\n"
     ]
    }
   ],
   "source": [
    "# Acuracy final\n",
    "model.check_acuracy(model, testLoader)"
   ]
  },
  {
   "cell_type": "markdown",
   "metadata": {},
   "source": [
    "## Resultados del entrenamiento\n",
    "10 epochs = 91%\n",
    "\n",
    "15 epochs = "
   ]
  }
 ],
 "metadata": {
  "interpreter": {
   "hash": "9be826744cc5714b462ad0c8de88bfa6f016a48973c6317b9546595d1685cabb"
  },
  "kernelspec": {
   "display_name": "Python 3.10.1 64-bit",
   "language": "python",
   "name": "python3"
  },
  "language_info": {
   "codemirror_mode": {
    "name": "ipython",
    "version": 3
   },
   "file_extension": ".py",
   "mimetype": "text/x-python",
   "name": "python",
   "nbconvert_exporter": "python",
   "pygments_lexer": "ipython3",
   "version": "3.10.1"
  },
  "orig_nbformat": 4
 },
 "nbformat": 4,
 "nbformat_minor": 2
}
