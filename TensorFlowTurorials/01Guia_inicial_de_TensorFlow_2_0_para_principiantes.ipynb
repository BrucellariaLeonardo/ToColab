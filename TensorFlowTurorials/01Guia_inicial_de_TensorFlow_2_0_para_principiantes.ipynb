{
  "nbformat": 4,
  "nbformat_minor": 0,
  "metadata": {
    "colab": {
      "name": "Guia inicial de TensorFlow 2.0 para principiantes",
      "provenance": [],
      "collapsed_sections": [],
      "authorship_tag": "ABX9TyPJr8mNQq7josTeOH28TENR",
      "include_colab_link": true
    },
    "kernelspec": {
      "name": "python3",
      "display_name": "Python 3"
    },
    "language_info": {
      "name": "python"
    }
  },
  "cells": [
    {
      "cell_type": "markdown",
      "metadata": {
        "id": "view-in-github",
        "colab_type": "text"
      },
      "source": [
        "<a href=\"https://colab.research.google.com/github/BrucellariaLeonardo/ToColab/blob/master/TensorFlowTurorials/01Guia_inicial_de_TensorFlow_2_0_para_principiantes.ipynb\" target=\"_parent\"><img src=\"https://colab.research.google.com/assets/colab-badge.svg\" alt=\"Open In Colab\"/></a>"
      ]
    },
    {
      "cell_type": "markdown",
      "source": [
        "Notebook generado a partir de la guia paso a paso de inicio a tensorflow https://www.tensorflow.org/tutorials/quickstart/beginner?hl=es-419"
      ],
      "metadata": {
        "id": "K__M8_UdvnVc"
      }
    },
    {
      "cell_type": "markdown",
      "source": [
        "## Bajando el data set"
      ],
      "metadata": {
        "id": "GL9GSzxdyO1g"
      }
    },
    {
      "cell_type": "code",
      "source": [
        "import tensorflow as tf"
      ],
      "metadata": {
        "id": "Q9dczdXmv4lb"
      },
      "execution_count": 1,
      "outputs": []
    },
    {
      "cell_type": "code",
      "source": [
        "mnist = tf.keras.datasets.mnist #generando dataset"
      ],
      "metadata": {
        "id": "EBPnh89qwJn-"
      },
      "execution_count": 2,
      "outputs": []
    },
    {
      "cell_type": "code",
      "source": [
        "(xTrain, yTrain), (xTest, yTest) = mnist.load_data() # descaarga y unpack del data set\n",
        "# cada pixel toma un valor entre 0 y 255, asique los normalizamos entre 0 y 1\n",
        "xTrain = xTrain/255.0 \n",
        "xTest = xTest/255.0"
      ],
      "metadata": {
        "id": "Uk4sBnl6wwtN"
      },
      "execution_count": 3,
      "outputs": []
    },
    {
      "cell_type": "markdown",
      "source": [
        "## Construyendo un modelos"
      ],
      "metadata": {
        "id": "fT6pGa2EyJtH"
      }
    },
    {
      "cell_type": "markdown",
      "source": [
        "Vamos a implementar n modelo fully conected. Las imagenes del data set mnist poseen un tamaño de 28*28, asique vamos a iniciar con una capa flatten, despues una capa de 128 neuronas activada por por una funcion relu, se agrega un dropout para reducir el overfitin y finalmente una ultima capa de 10 elementos activada por softma para generar las categorias de saida."
      ],
      "metadata": {
        "id": "MzHqZxIry6e9"
      }
    },
    {
      "cell_type": "code",
      "source": [
        "# el metodo sequential agrega capas en cascada al modelo\n",
        "model = tf.keras.models.Sequential([\n",
        "                                    tf.keras.layers.Flatten(input_shape= (28,28)), #redimension de las  imagenes\n",
        "                                    tf.keras.layers.Dense(128, activation= 'relu'), #Capa fully conected\n",
        "                                    tf.keras.layers.Dropout(0.2), #desactivacion de neuronas\n",
        "                                    tf.keras.layers.Dense(10, activation='softmax'), #capa para presentacion de datos\n",
        "])"
      ],
      "metadata": {
        "id": "G9kqQlu-xE9Q"
      },
      "execution_count": 4,
      "outputs": []
    },
    {
      "cell_type": "code",
      "source": [
        "# definicion de los parametros de entrenamiento\n",
        "model.compile(optimizer= 'adam',\n",
        "              loss= 'sparse_categorical_crossentropy',\n",
        "              metrics = ['accuracy'])"
      ],
      "metadata": {
        "id": "yl58ZjGb0ccU"
      },
      "execution_count": 7,
      "outputs": []
    },
    {
      "cell_type": "markdown",
      "source": [
        "## Entrenamiento del modelo"
      ],
      "metadata": {
        "id": "02CMsHNg3PFO"
      }
    },
    {
      "cell_type": "code",
      "source": [
        "model.fit(xTrain, yTrain, epochs = 5)\n",
        "model.evaluate(xTest, yTest, verbose=2)"
      ],
      "metadata": {
        "colab": {
          "base_uri": "https://localhost:8080/"
        },
        "id": "yI_LeGVUxscT",
        "outputId": "f628fbac-2996-4ed7-d6e0-f39963886bc6"
      },
      "execution_count": 8,
      "outputs": [
        {
          "output_type": "stream",
          "name": "stdout",
          "text": [
            "Epoch 1/5\n",
            "1875/1875 [==============================] - 6s 3ms/step - loss: 0.3025 - accuracy: 0.9123\n",
            "Epoch 2/5\n",
            "1875/1875 [==============================] - 5s 3ms/step - loss: 0.1434 - accuracy: 0.9573\n",
            "Epoch 3/5\n",
            "1875/1875 [==============================] - 5s 3ms/step - loss: 0.1050 - accuracy: 0.9688\n",
            "Epoch 4/5\n",
            "1875/1875 [==============================] - 5s 3ms/step - loss: 0.0869 - accuracy: 0.9737\n",
            "Epoch 5/5\n",
            "1875/1875 [==============================] - 5s 3ms/step - loss: 0.0750 - accuracy: 0.9763\n",
            "313/313 - 1s - loss: 0.0805 - accuracy: 0.9751 - 531ms/epoch - 2ms/step\n"
          ]
        },
        {
          "output_type": "execute_result",
          "data": {
            "text/plain": [
              "[0.08053483814001083, 0.9750999808311462]"
            ]
          },
          "metadata": {},
          "execution_count": 8
        }
      ]
    },
    {
      "cell_type": "markdown",
      "source": [
        "## Usando el modelo"
      ],
      "metadata": {
        "id": "vLySdlyjBGeu"
      }
    },
    {
      "cell_type": "code",
      "source": [
        "import matplotlib.pyplot as plt\n",
        "\n",
        "x = 9\n",
        "\n",
        "print(yTest[x])\n",
        "plt.imshow(xTest[x]*255)\n",
        "print(f'Predicted: {model.predict(xTest[x:x+1]).argmax()}.')\n",
        "print(f'Correct answer: {yTest[x]}')"
      ],
      "metadata": {
        "colab": {
          "base_uri": "https://localhost:8080/",
          "height": 317
        },
        "id": "9QL-tgwK3dtQ",
        "outputId": "c46f9d3b-6f26-4cb8-eb25-cc98bf56d816"
      },
      "execution_count": 79,
      "outputs": [
        {
          "output_type": "stream",
          "name": "stdout",
          "text": [
            "9\n",
            "Predicted: 9.\n",
            "Correct answer: 9\n"
          ]
        },
        {
          "output_type": "display_data",
          "data": {
            "text/plain": [
              "<Figure size 432x288 with 1 Axes>"
            ],
            "image/png": "[encoded data removed]"
          },
          "metadata": {
            "needs_background": "light"
          }
        }
      ]
    },
    {
      "cell_type": "code",
      "source": [
        ""
      ],
      "metadata": {
        "id": "D-kdFZo8BEyr"
      },
      "execution_count": null,
      "outputs": []
    }
  ]
}