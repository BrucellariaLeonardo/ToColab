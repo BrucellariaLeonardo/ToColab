{
 "cells": [
  {
   "cell_type": "markdown",
   "metadata": {},
   "source": [
    "# Imports"
   ]
  },
  {
   "cell_type": "code",
   "execution_count": null,
   "metadata": {},
   "outputs": [],
   "source": [
    "from fastbook import *\n"
   ]
  },
  {
   "cell_type": "markdown",
   "metadata": {},
   "source": [
    "# Gethin images"
   ]
  },
  {
   "cell_type": "code",
   "execution_count": null,
   "metadata": {},
   "outputs": [],
   "source": [
    "# generatin heros list\n",
    "def imgDownload(imgList = ['batman','flash'], imgNum = 3,folderName = 'imgs'):\n",
    "    path = Path(folderName) # path to images\n",
    "    if not path.exists(): # if path doesn't exist\n",
    "        path.mkdir()    # create path\n",
    "        for o in imgList:   # for each hero in list\n",
    "            dest = Path(path/o) # create path to image\n",
    "            dest.mkdir(exist_ok=True) # create path for hero\n",
    "            urls = search_images_ddg(o,max_images= imgNum) # get urls for hero\n",
    "            for index,url in enumerate(urls): # for each url\n",
    "                download_url(url,f\"{dest}/{index}.jpg\") # download image\n",
    "    return path\n",
    "        "
   ]
  },
  {
   "cell_type": "code",
   "execution_count": null,
   "metadata": {},
   "outputs": [],
   "source": [
    "# checking integrity of images\n",
    "def imgCheck(path):\n",
    "    fns = get_image_files(path) # get all image files\n",
    "    failed = verify_images(fns) # check if images are valid\n",
    "    failed.map(Path.unlink) # delete images that are not valid\n",
    "    return len(failed)\n"
   ]
  },
  {
   "cell_type": "markdown",
   "metadata": {},
   "source": [
    "# generating DataLoader"
   ]
  },
  {
   "cell_type": "code",
   "execution_count": null,
   "metadata": {},
   "outputs": [],
   "source": [
    "dlGenerator = DataBlock(\n",
    "    blocks=(ImageBlock, CategoryBlock), # ImageBlock is the image block\n",
    "    get_items=get_image_files, # get all image files    \n",
    "    splitter=RandomSplitter(valid_pct=0.2, seed=42), # split into train and valid\n",
    "    get_y=parent_label, # get parent label\n",
    "    item_tfms= RandomResizedCrop(224,min_scale = 0.5), # resize images to 128x128\n",
    "    batch_tfms= aug_transforms(mult = 2), # augment images\n",
    ")"
   ]
  },
  {
   "cell_type": "markdown",
   "metadata": {},
   "source": [
    "# Generating and training the model"
   ]
  },
  {
   "cell_type": "code",
   "execution_count": null,
   "metadata": {},
   "outputs": [],
   "source": [
    "path = imgDownload(imgNum = 150) # download images\n",
    "imgCheck(path)  # check images\n",
    "learn = cnn_learner(pepe, models.resnet34, metrics=accuracy) # create learner\n",
    "learn.fine_tune(5) # fine tune model"
   ]
  },
  {
   "cell_type": "markdown",
   "metadata": {},
   "source": [
    "# Inspecting results"
   ]
  },
  {
   "cell_type": "code",
   "execution_count": null,
   "metadata": {},
   "outputs": [],
   "source": [
    "interp = ClassificationInterpretation.from_learner(learn)\n",
    "interp.plot_confusion_matrix()\n",
    "interp.plot_top_losses(5, nrows=1)"
   ]
  },
  {
   "cell_type": "markdown",
   "metadata": {},
   "source": [
    "# Cleaning Dataset"
   ]
  },
  {
   "cell_type": "markdown",
   "metadata": {},
   "source": [
    "cleaner = ImageClassifierCleaner(learn)\n",
    "cleaner"
   ]
  },
  {
   "cell_type": "code",
   "execution_count": null,
   "metadata": {},
   "outputs": [],
   "source": [
    "# Delete images taged in the cleaner\n",
    "for idx in cleaner.delete(): cleaner.fns[idx].unlink()"
   ]
  }
 ],
 "metadata": {
  "interpreter": {
   "hash": "9be826744cc5714b462ad0c8de88bfa6f016a48973c6317b9546595d1685cabb"
  },
  "kernelspec": {
   "display_name": "Python 3.10.1 64-bit",
   "language": "python",
   "name": "python3"
  },
  "language_info": {
   "codemirror_mode": {
    "name": "ipython",
    "version": 3
   },
   "file_extension": ".py",
   "mimetype": "text/x-python",
   "name": "python",
   "nbconvert_exporter": "python",
   "pygments_lexer": "ipython3",
   "version": "3.10.1"
  },
  "orig_nbformat": 4
 },
 "nbformat": 4,
 "nbformat_minor": 2
}
