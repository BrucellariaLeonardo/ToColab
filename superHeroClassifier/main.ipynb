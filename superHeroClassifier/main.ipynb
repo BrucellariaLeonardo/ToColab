{
  "cells": [
    {
      "cell_type": "markdown",
      "metadata": {
        "id": "gv9jNfUXUJDj"
      },
      "source": [
        "# Imports"
      ]
    },
    {
      "cell_type": "code",
      "execution_count": null,
      "metadata": {
        "id": "IbiUNRWzUJDx"
      },
      "outputs": [],
      "source": [
        "#!pip install fastbook\n",
        "from fastbook import *\n"
      ]
    },
    {
      "cell_type": "markdown",
      "metadata": {
        "id": "LfWbwlzOUJD3"
      },
      "source": [
        "# Gethin images"
      ]
    },
    {
      "cell_type": "code",
      "execution_count": 8,
      "metadata": {
        "id": "7FkX3EtzUJD4"
      },
      "outputs": [],
      "source": [
        "# generatin heros list\n",
        "def imgDownload(imgList = ['batman','flash','superman','shazam'], imgNum = 3,folderName = 'imgs'):\n",
        "    path = Path(folderName) # path to images\n",
        "    if not path.exists(): # if path doesn't exist\n",
        "        path.mkdir()    # create path\n",
        "        for o in imgList:   # for each hero in list\n",
        "            dest = Path(path/o) # create path to image\n",
        "            dest.mkdir(exist_ok=True) # create path for hero\n",
        "            res = search_images_ddg(o,max_images= imgNum) # get urls for hero\n",
        "            download_images(dest, urls=res)\n",
        "    return path\n",
        "        "
      ]
    },
    {
      "cell_type": "code",
      "execution_count": 9,
      "metadata": {
        "id": "xXKV4gIAUJD7"
      },
      "outputs": [],
      "source": [
        "# checking integrity of images\n",
        "def imgCheck(path):\n",
        "    fns = get_image_files(path) # get all image files\n",
        "    failed = verify_images(fns) # check if images are valid\n",
        "    failed.map(Path.unlink) # delete images that are not valid\n",
        "    return len(failed)\n"
      ]
    },
    {
      "cell_type": "markdown",
      "metadata": {
        "id": "-Rc9hFoxUJD9"
      },
      "source": [
        "# generating DataLoader"
      ]
    },
    {
      "cell_type": "code",
      "execution_count": null,
      "metadata": {
        "id": "41dGo4a3UJD-"
      },
      "outputs": [],
      "source": [
        "dlGenerator = DataBlock(\n",
        "    blocks=(ImageBlock, CategoryBlock), # ImageBlock is the image block\n",
        "    get_items=get_image_files, # get all image files    \n",
        "    splitter=RandomSplitter(valid_pct=0.2, seed=42), # split into train and valid\n",
        "    get_y=parent_label, # get parent label\n",
        "    item_tfms= RandomResizedCrop(224,min_scale = 0.5), # resize images to 128x128\n",
        "    batch_tfms= aug_transforms() # augment images\n",
        ")"
      ]
    },
    {
      "cell_type": "markdown",
      "metadata": {
        "id": "BnDNZOTCUJEB"
      },
      "source": [
        "# Generating and training the model"
      ]
    },
    {
      "cell_type": "code",
      "execution_count": null,
      "metadata": {
        "colab": {
          "base_uri": "https://localhost:8080/",
          "height": 1000
        },
        "id": "iuRdnBPRW4jO",
        "outputId": "4b7df457-6ec3-4dd9-f5e0-24bb0d5a1160"
      },
      "outputs": [],
      "source": [
        "path = imgDownload(imgNum = 40) # download images\n",
        "imgCheck(path)  # check images"
      ]
    },
    {
      "cell_type": "code",
      "execution_count": null,
      "metadata": {
        "colab": {
          "base_uri": "https://localhost:8080/",
          "height": 354,
          "referenced_widgets": [
            "75f5a2351bb14db6a5993a5346927cbc",
            "84f914613a374c18b0a97c4497d633cb",
            "86144e3424f8490ea628127fb1375bd6",
            "45589d7e6bf543578ffea95fe6ac736c",
            "a21ae86470884d059503cf2c9beb372e",
            "455d39c158004641ba1cf2264ea76f60",
            "6146f2cf967746958d2b7bd2b7fcf1df",
            "13ff0b034484460ca554434f3eb8db7b",
            "77256300027e478e89c01dff68c9a053",
            "9744219827c143f9a06dc0bac3f8f60e",
            "3a035c1493624d4d8a2023f835586fc1"
          ]
        },
        "id": "EC1WpFYNUJEE",
        "outputId": "ac480bb3-cb99-4d02-9f6d-71a8c8909a84"
      },
      "outputs": [],
      "source": [
        "dl = dlGenerator.dataloaders(path)\n",
        "learn = vision_learner(dl, models.resnet18, metrics=accuracy) # create learner\n",
        "learn.fine_tune(5) # fine tune model"
      ]
    },
    {
      "cell_type": "markdown",
      "metadata": {
        "id": "OUKt2mAUUJEI"
      },
      "source": [
        "# Inspecting results"
      ]
    },
    {
      "cell_type": "code",
      "execution_count": null,
      "metadata": {
        "colab": {
          "base_uri": "https://localhost:8080/",
          "height": 500
        },
        "id": "gh0pO2o5UJEN",
        "outputId": "fa7ed218-e17b-424e-f18a-bd26d94dfd2c"
      },
      "outputs": [],
      "source": [
        "interp = ClassificationInterpretation.from_learner(learn)\n",
        "interp.plot_confusion_matrix()\n",
        "interp.plot_top_losses(5, nrows=1)"
      ]
    },
    {
      "cell_type": "markdown",
      "metadata": {
        "id": "iZk5wn2hUJEO"
      },
      "source": [
        "# Cleaning Dataset"
      ]
    },
    {
      "cell_type": "code",
      "execution_count": null,
      "metadata": {
        "colab": {
          "base_uri": "https://localhost:8080/",
          "height": 183
        },
        "id": "zNm6rbJUbI81",
        "outputId": "c9b51daa-ab1d-47f5-e7bf-55d2ce604d65"
      },
      "outputs": [],
      "source": [
        "#cleaner = ImageClassifierCleaner(learn)\n",
        "#cleaner"
      ]
    },
    {
      "cell_type": "code",
      "execution_count": null,
      "metadata": {
        "id": "LoXU626pUJEQ"
      },
      "outputs": [],
      "source": [
        "# Delete images taged in the cleaner\n",
        "#for idx in cleaner.delete(): cleaner.fns[idx].unlink()"
      ]
    }
  ],
  "metadata": {
    "accelerator": "GPU",
    "colab": {
      "name": "main.ipynb",
      "provenance": []
    },
    "interpreter": {
      "hash": "9be826744cc5714b462ad0c8de88bfa6f016a48973c6317b9546595d1685cabb"
    },
    "kernelspec": {
      "display_name": "Python 3.10.1 64-bit",
      "language": "python",
      "name": "python3"
    },
    "language_info": {
      "codemirror_mode": {
        "name": "ipython",
        "version": 3
      },
      "file_extension": ".py",
      "mimetype": "text/x-python",
      "name": "python",
      "nbconvert_exporter": "python",
      "pygments_lexer": "ipython3",
      "version": "3.10.1"
    },
    "orig_nbformat": 4,
    "widgets": {
      "application/vnd.jupyter.widget-state+json": {
        "13ff0b034484460ca554434f3eb8db7b": {
          "model_module": "@jupyter-widgets/base",
          "model_module_version": "1.2.0",
          "model_name": "LayoutModel",
          "state": {
            "_model_module": "@jupyter-widgets/base",
            "_model_module_version": "1.2.0",
            "_model_name": "LayoutModel",
            "_view_count": null,
            "_view_module": "@jupyter-widgets/base",
            "_view_module_version": "1.2.0",
            "_view_name": "LayoutView",
            "align_content": null,
            "align_items": null,
            "align_self": null,
            "border": null,
            "bottom": null,
            "display": null,
            "flex": null,
            "flex_flow": null,
            "grid_area": null,
            "grid_auto_columns": null,
            "grid_auto_flow": null,
            "grid_auto_rows": null,
            "grid_column": null,
            "grid_gap": null,
            "grid_row": null,
            "grid_template_areas": null,
            "grid_template_columns": null,
            "grid_template_rows": null,
            "height": null,
            "justify_content": null,
            "justify_items": null,
            "left": null,
            "margin": null,
            "max_height": null,
            "max_width": null,
            "min_height": null,
            "min_width": null,
            "object_fit": null,
            "object_position": null,
            "order": null,
            "overflow": null,
            "overflow_x": null,
            "overflow_y": null,
            "padding": null,
            "right": null,
            "top": null,
            "visibility": null,
            "width": null
          }
        },
        "3a035c1493624d4d8a2023f835586fc1": {
          "model_module": "@jupyter-widgets/controls",
          "model_module_version": "1.5.0",
          "model_name": "DescriptionStyleModel",
          "state": {
            "_model_module": "@jupyter-widgets/controls",
            "_model_module_version": "1.5.0",
            "_model_name": "DescriptionStyleModel",
            "_view_count": null,
            "_view_module": "@jupyter-widgets/base",
            "_view_module_version": "1.2.0",
            "_view_name": "StyleView",
            "description_width": ""
          }
        },
        "45589d7e6bf543578ffea95fe6ac736c": {
          "model_module": "@jupyter-widgets/controls",
          "model_module_version": "1.5.0",
          "model_name": "HTMLModel",
          "state": {
            "_dom_classes": [],
            "_model_module": "@jupyter-widgets/controls",
            "_model_module_version": "1.5.0",
            "_model_name": "HTMLModel",
            "_view_count": null,
            "_view_module": "@jupyter-widgets/controls",
            "_view_module_version": "1.5.0",
            "_view_name": "HTMLView",
            "description": "",
            "description_tooltip": null,
            "layout": "IPY_MODEL_9744219827c143f9a06dc0bac3f8f60e",
            "placeholder": "​",
            "style": "IPY_MODEL_3a035c1493624d4d8a2023f835586fc1",
            "value": " 44.7M/44.7M [00:00&lt;00:00, 87.2MB/s]"
          }
        },
        "455d39c158004641ba1cf2264ea76f60": {
          "model_module": "@jupyter-widgets/base",
          "model_module_version": "1.2.0",
          "model_name": "LayoutModel",
          "state": {
            "_model_module": "@jupyter-widgets/base",
            "_model_module_version": "1.2.0",
            "_model_name": "LayoutModel",
            "_view_count": null,
            "_view_module": "@jupyter-widgets/base",
            "_view_module_version": "1.2.0",
            "_view_name": "LayoutView",
            "align_content": null,
            "align_items": null,
            "align_self": null,
            "border": null,
            "bottom": null,
            "display": null,
            "flex": null,
            "flex_flow": null,
            "grid_area": null,
            "grid_auto_columns": null,
            "grid_auto_flow": null,
            "grid_auto_rows": null,
            "grid_column": null,
            "grid_gap": null,
            "grid_row": null,
            "grid_template_areas": null,
            "grid_template_columns": null,
            "grid_template_rows": null,
            "height": null,
            "justify_content": null,
            "justify_items": null,
            "left": null,
            "margin": null,
            "max_height": null,
            "max_width": null,
            "min_height": null,
            "min_width": null,
            "object_fit": null,
            "object_position": null,
            "order": null,
            "overflow": null,
            "overflow_x": null,
            "overflow_y": null,
            "padding": null,
            "right": null,
            "top": null,
            "visibility": null,
            "width": null
          }
        },
        "6146f2cf967746958d2b7bd2b7fcf1df": {
          "model_module": "@jupyter-widgets/controls",
          "model_module_version": "1.5.0",
          "model_name": "DescriptionStyleModel",
          "state": {
            "_model_module": "@jupyter-widgets/controls",
            "_model_module_version": "1.5.0",
            "_model_name": "DescriptionStyleModel",
            "_view_count": null,
            "_view_module": "@jupyter-widgets/base",
            "_view_module_version": "1.2.0",
            "_view_name": "StyleView",
            "description_width": ""
          }
        },
        "75f5a2351bb14db6a5993a5346927cbc": {
          "model_module": "@jupyter-widgets/controls",
          "model_module_version": "1.5.0",
          "model_name": "HBoxModel",
          "state": {
            "_dom_classes": [],
            "_model_module": "@jupyter-widgets/controls",
            "_model_module_version": "1.5.0",
            "_model_name": "HBoxModel",
            "_view_count": null,
            "_view_module": "@jupyter-widgets/controls",
            "_view_module_version": "1.5.0",
            "_view_name": "HBoxView",
            "box_style": "",
            "children": [
              "IPY_MODEL_84f914613a374c18b0a97c4497d633cb",
              "IPY_MODEL_86144e3424f8490ea628127fb1375bd6",
              "IPY_MODEL_45589d7e6bf543578ffea95fe6ac736c"
            ],
            "layout": "IPY_MODEL_a21ae86470884d059503cf2c9beb372e"
          }
        },
        "77256300027e478e89c01dff68c9a053": {
          "model_module": "@jupyter-widgets/controls",
          "model_module_version": "1.5.0",
          "model_name": "ProgressStyleModel",
          "state": {
            "_model_module": "@jupyter-widgets/controls",
            "_model_module_version": "1.5.0",
            "_model_name": "ProgressStyleModel",
            "_view_count": null,
            "_view_module": "@jupyter-widgets/base",
            "_view_module_version": "1.2.0",
            "_view_name": "StyleView",
            "bar_color": null,
            "description_width": ""
          }
        },
        "84f914613a374c18b0a97c4497d633cb": {
          "model_module": "@jupyter-widgets/controls",
          "model_module_version": "1.5.0",
          "model_name": "HTMLModel",
          "state": {
            "_dom_classes": [],
            "_model_module": "@jupyter-widgets/controls",
            "_model_module_version": "1.5.0",
            "_model_name": "HTMLModel",
            "_view_count": null,
            "_view_module": "@jupyter-widgets/controls",
            "_view_module_version": "1.5.0",
            "_view_name": "HTMLView",
            "description": "",
            "description_tooltip": null,
            "layout": "IPY_MODEL_455d39c158004641ba1cf2264ea76f60",
            "placeholder": "​",
            "style": "IPY_MODEL_6146f2cf967746958d2b7bd2b7fcf1df",
            "value": "100%"
          }
        },
        "86144e3424f8490ea628127fb1375bd6": {
          "model_module": "@jupyter-widgets/controls",
          "model_module_version": "1.5.0",
          "model_name": "FloatProgressModel",
          "state": {
            "_dom_classes": [],
            "_model_module": "@jupyter-widgets/controls",
            "_model_module_version": "1.5.0",
            "_model_name": "FloatProgressModel",
            "_view_count": null,
            "_view_module": "@jupyter-widgets/controls",
            "_view_module_version": "1.5.0",
            "_view_name": "ProgressView",
            "bar_style": "success",
            "description": "",
            "description_tooltip": null,
            "layout": "IPY_MODEL_13ff0b034484460ca554434f3eb8db7b",
            "max": 46830571,
            "min": 0,
            "orientation": "horizontal",
            "style": "IPY_MODEL_77256300027e478e89c01dff68c9a053",
            "value": 46830571
          }
        },
        "9744219827c143f9a06dc0bac3f8f60e": {
          "model_module": "@jupyter-widgets/base",
          "model_module_version": "1.2.0",
          "model_name": "LayoutModel",
          "state": {
            "_model_module": "@jupyter-widgets/base",
            "_model_module_version": "1.2.0",
            "_model_name": "LayoutModel",
            "_view_count": null,
            "_view_module": "@jupyter-widgets/base",
            "_view_module_version": "1.2.0",
            "_view_name": "LayoutView",
            "align_content": null,
            "align_items": null,
            "align_self": null,
            "border": null,
            "bottom": null,
            "display": null,
            "flex": null,
            "flex_flow": null,
            "grid_area": null,
            "grid_auto_columns": null,
            "grid_auto_flow": null,
            "grid_auto_rows": null,
            "grid_column": null,
            "grid_gap": null,
            "grid_row": null,
            "grid_template_areas": null,
            "grid_template_columns": null,
            "grid_template_rows": null,
            "height": null,
            "justify_content": null,
            "justify_items": null,
            "left": null,
            "margin": null,
            "max_height": null,
            "max_width": null,
            "min_height": null,
            "min_width": null,
            "object_fit": null,
            "object_position": null,
            "order": null,
            "overflow": null,
            "overflow_x": null,
            "overflow_y": null,
            "padding": null,
            "right": null,
            "top": null,
            "visibility": null,
            "width": null
          }
        },
        "a21ae86470884d059503cf2c9beb372e": {
          "model_module": "@jupyter-widgets/base",
          "model_module_version": "1.2.0",
          "model_name": "LayoutModel",
          "state": {
            "_model_module": "@jupyter-widgets/base",
            "_model_module_version": "1.2.0",
            "_model_name": "LayoutModel",
            "_view_count": null,
            "_view_module": "@jupyter-widgets/base",
            "_view_module_version": "1.2.0",
            "_view_name": "LayoutView",
            "align_content": null,
            "align_items": null,
            "align_self": null,
            "border": null,
            "bottom": null,
            "display": null,
            "flex": null,
            "flex_flow": null,
            "grid_area": null,
            "grid_auto_columns": null,
            "grid_auto_flow": null,
            "grid_auto_rows": null,
            "grid_column": null,
            "grid_gap": null,
            "grid_row": null,
            "grid_template_areas": null,
            "grid_template_columns": null,
            "grid_template_rows": null,
            "height": null,
            "justify_content": null,
            "justify_items": null,
            "left": null,
            "margin": null,
            "max_height": null,
            "max_width": null,
            "min_height": null,
            "min_width": null,
            "object_fit": null,
            "object_position": null,
            "order": null,
            "overflow": null,
            "overflow_x": null,
            "overflow_y": null,
            "padding": null,
            "right": null,
            "top": null,
            "visibility": null,
            "width": null
          }
        }
      }
    }
  },
  "nbformat": 4,
  "nbformat_minor": 0
}
